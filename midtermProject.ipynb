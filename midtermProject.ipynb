{
 "cells": [
  {
   "cell_type": "code",
   "execution_count": 32,
   "id": "1faf48d1",
   "metadata": {},
   "outputs": [],
   "source": [
    "import matplotlib.pyplot as plt\n",
    "import datetime\n",
    "import pandas as pd"
   ]
  },
  {
   "cell_type": "code",
   "execution_count": 41,
   "id": "6e89688d",
   "metadata": {},
   "outputs": [
    {
     "name": "stdout",
     "output_type": "stream",
     "text": [
      "                             Open    High     Low   Close     Volume  \\\n",
      "Date                                                                   \n",
      "1999-01-04 00:00:00-05:00   79.11   80.29   78.05   78.89    9450400   \n",
      "1999-01-05 00:00:00-05:00   78.83   80.07   78.83   79.79    8031000   \n",
      "1999-01-06 00:00:00-05:00   80.68   81.92   80.63   81.72    7737700   \n",
      "1999-01-07 00:00:00-05:00   81.04   81.58   80.66   81.32    5504900   \n",
      "1999-01-08 00:00:00-05:00   82.20   82.40   80.78   81.92    6224400   \n",
      "...                           ...     ...     ...     ...        ...   \n",
      "2023-08-25 00:00:00-04:00  437.14  439.75  433.47  438.42  102325100   \n",
      "2023-08-28 00:00:00-04:00  440.69  441.84  438.42  441.20   61595400   \n",
      "2023-08-29 00:00:00-04:00  441.09  447.87  440.90  447.58   83081900   \n",
      "2023-08-30 00:00:00-04:00  447.93  450.08  447.20  449.42   69053900   \n",
      "2023-08-31 00:00:00-04:00  450.06  451.24  448.58  448.77   66084600   \n",
      "\n",
      "                           Dividends  Stock Splits  Capital Gains  \n",
      "Date                                                               \n",
      "1999-01-04 00:00:00-05:00        0.0           0.0            0.0  \n",
      "1999-01-05 00:00:00-05:00        0.0           0.0            0.0  \n",
      "1999-01-06 00:00:00-05:00        0.0           0.0            0.0  \n",
      "1999-01-07 00:00:00-05:00        0.0           0.0            0.0  \n",
      "1999-01-08 00:00:00-05:00        0.0           0.0            0.0  \n",
      "...                              ...           ...            ...  \n",
      "2023-08-25 00:00:00-04:00        0.0           0.0            0.0  \n",
      "2023-08-28 00:00:00-04:00        0.0           0.0            0.0  \n",
      "2023-08-29 00:00:00-04:00        0.0           0.0            0.0  \n",
      "2023-08-30 00:00:00-04:00        0.0           0.0            0.0  \n",
      "2023-08-31 00:00:00-04:00        0.0           0.0            0.0  \n",
      "\n",
      "[6206 rows x 8 columns]\n"
     ]
    },
    {
     "ename": "AttributeError",
     "evalue": "'DataFrame' object has no attribute 'setenvironment'",
     "output_type": "error",
     "traceback": [
      "\u001b[1;31m---------------------------------------------------------------------------\u001b[0m",
      "\u001b[1;31mAttributeError\u001b[0m                            Traceback (most recent call last)",
      "Cell \u001b[1;32mIn[41], line 32\u001b[0m\n\u001b[0;32m     30\u001b[0m data \u001b[38;5;241m=\u001b[39m spyticker\u001b[38;5;241m.\u001b[39mhistory(period\u001b[38;5;241m=\u001b[39m\u001b[38;5;124m\"\u001b[39m\u001b[38;5;124mmax\u001b[39m\u001b[38;5;124m\"\u001b[39m, interval\u001b[38;5;241m=\u001b[39m\u001b[38;5;124m\"\u001b[39m\u001b[38;5;124m1d\u001b[39m\u001b[38;5;124m\"\u001b[39m, start\u001b[38;5;241m=\u001b[39m\u001b[38;5;124m\"\u001b[39m\u001b[38;5;124m1999-01-01\u001b[39m\u001b[38;5;124m\"\u001b[39m, end\u001b[38;5;241m=\u001b[39m\u001b[38;5;124m\"\u001b[39m\u001b[38;5;124m2023-09-01\u001b[39m\u001b[38;5;124m\"\u001b[39m , auto_adjust\u001b[38;5;241m=\u001b[39m\u001b[38;5;28;01mTrue\u001b[39;00m, rounding\u001b[38;5;241m=\u001b[39m\u001b[38;5;28;01mTrue\u001b[39;00m)\n\u001b[0;32m     31\u001b[0m \u001b[38;5;28mprint\u001b[39m(data)\n\u001b[1;32m---> 32\u001b[0m \u001b[43mcerebro\u001b[49m\u001b[38;5;241;43m.\u001b[39;49m\u001b[43madddata\u001b[49m\u001b[43m(\u001b[49m\u001b[43mdata\u001b[49m\u001b[43m)\u001b[49m\n\u001b[0;32m     33\u001b[0m cerebro\u001b[38;5;241m.\u001b[39mrun()\n\u001b[0;32m     35\u001b[0m \u001b[38;5;66;03m##print('Starting Portfolio Value: %.2f' % cerebro.broker.getvalue())\u001b[39;00m\n",
      "File \u001b[1;32m~\\anaconda3\\envs\\testEnv\\lib\\site-packages\\backtrader\\cerebro.py:758\u001b[0m, in \u001b[0;36mCerebro.adddata\u001b[1;34m(self, data, name)\u001b[0m\n\u001b[0;32m    755\u001b[0m     data\u001b[38;5;241m.\u001b[39m_name \u001b[38;5;241m=\u001b[39m name\n\u001b[0;32m    757\u001b[0m data\u001b[38;5;241m.\u001b[39m_id \u001b[38;5;241m=\u001b[39m \u001b[38;5;28mnext\u001b[39m(\u001b[38;5;28mself\u001b[39m\u001b[38;5;241m.\u001b[39m_dataid)\n\u001b[1;32m--> 758\u001b[0m \u001b[43mdata\u001b[49m\u001b[38;5;241;43m.\u001b[39;49m\u001b[43msetenvironment\u001b[49m(\u001b[38;5;28mself\u001b[39m)\n\u001b[0;32m    760\u001b[0m \u001b[38;5;28mself\u001b[39m\u001b[38;5;241m.\u001b[39mdatas\u001b[38;5;241m.\u001b[39mappend(data)\n\u001b[0;32m    761\u001b[0m \u001b[38;5;28mself\u001b[39m\u001b[38;5;241m.\u001b[39mdatasbyname[data\u001b[38;5;241m.\u001b[39m_name] \u001b[38;5;241m=\u001b[39m data\n",
      "File \u001b[1;32m~\\anaconda3\\envs\\testEnv\\lib\\site-packages\\pandas\\core\\generic.py:5989\u001b[0m, in \u001b[0;36mNDFrame.__getattr__\u001b[1;34m(self, name)\u001b[0m\n\u001b[0;32m   5982\u001b[0m \u001b[38;5;28;01mif\u001b[39;00m (\n\u001b[0;32m   5983\u001b[0m     name \u001b[38;5;129;01mnot\u001b[39;00m \u001b[38;5;129;01min\u001b[39;00m \u001b[38;5;28mself\u001b[39m\u001b[38;5;241m.\u001b[39m_internal_names_set\n\u001b[0;32m   5984\u001b[0m     \u001b[38;5;129;01mand\u001b[39;00m name \u001b[38;5;129;01mnot\u001b[39;00m \u001b[38;5;129;01min\u001b[39;00m \u001b[38;5;28mself\u001b[39m\u001b[38;5;241m.\u001b[39m_metadata\n\u001b[0;32m   5985\u001b[0m     \u001b[38;5;129;01mand\u001b[39;00m name \u001b[38;5;129;01mnot\u001b[39;00m \u001b[38;5;129;01min\u001b[39;00m \u001b[38;5;28mself\u001b[39m\u001b[38;5;241m.\u001b[39m_accessors\n\u001b[0;32m   5986\u001b[0m     \u001b[38;5;129;01mand\u001b[39;00m \u001b[38;5;28mself\u001b[39m\u001b[38;5;241m.\u001b[39m_info_axis\u001b[38;5;241m.\u001b[39m_can_hold_identifiers_and_holds_name(name)\n\u001b[0;32m   5987\u001b[0m ):\n\u001b[0;32m   5988\u001b[0m     \u001b[38;5;28;01mreturn\u001b[39;00m \u001b[38;5;28mself\u001b[39m[name]\n\u001b[1;32m-> 5989\u001b[0m \u001b[38;5;28;01mreturn\u001b[39;00m \u001b[38;5;28;43mobject\u001b[39;49m\u001b[38;5;241;43m.\u001b[39;49m\u001b[38;5;21;43m__getattribute__\u001b[39;49m\u001b[43m(\u001b[49m\u001b[38;5;28;43mself\u001b[39;49m\u001b[43m,\u001b[49m\u001b[43m \u001b[49m\u001b[43mname\u001b[49m\u001b[43m)\u001b[49m\n",
      "\u001b[1;31mAttributeError\u001b[0m: 'DataFrame' object has no attribute 'setenvironment'"
     ]
    }
   ],
   "source": [
    "import backtrader as bt\n",
    "## Backtrader is the backtesting engine we're using\n",
    "## A 'behind the scenes' broker is always in place\n",
    "## and a starting capital amount is set in this case as $10,000\n",
    "## these are all default initial conditions\n",
    "\n",
    "import datetime  # For datetime objects\n",
    "import yfinance as yf #Importing yfinance datafeed\n",
    "\n",
    "import backtrader.feeds as btfeeds\n",
    "from datetime import datetime\n",
    "\n",
    "# Create a Stratey\n",
    "class TestStrategy(bt.SignalStrategy):\n",
    "         def __init__(self):\n",
    "            sma = bt.ind.SMA(period=200)\n",
    "            price = self.data\n",
    "            crossover = bt.ind.CrossOver(price,sma)\n",
    "            self.signal_add(bt.SIGNAL_LONG, crossover)\n",
    "        \n",
    "# Create a cerebro entity\n",
    "cerebro = bt.Cerebro()\n",
    "cerebro.addstrategy(TestStrategy)\n",
    "\n",
    "# Set Starting Capital at $100,000\n",
    "cerebro.broker.setcash(100000) ##Set Starting Capital at $100,000\n",
    "\n",
    "# Create a datafeed\n",
    "spyticker = yf.Ticker(\"SPY\")\n",
    "data = spyticker.history(period=\"max\", interval=\"1d\", start=\"1999-01-01\", end=\"2023-09-01\" , auto_adjust=True, rounding=True)\n",
    "print(data)\n",
    "cerebro.adddata(data)\n",
    "cerebro.run()\n",
    "\n",
    "##print('Starting Portfolio Value: %.2f' % cerebro.broker.getvalue())\n",
    "\n",
    "cerebro.plot()\n",
    "\n",
    "##print('Final Portfolio Value: %.2f' % cerebro.broker.getvalue())"
   ]
  },
  {
   "cell_type": "code",
   "execution_count": null,
   "id": "58be2653",
   "metadata": {},
   "outputs": [],
   "source": []
  }
 ],
 "metadata": {
  "kernelspec": {
   "display_name": "testEnv",
   "language": "python",
   "name": "testenv"
  },
  "language_info": {
   "codemirror_mode": {
    "name": "ipython",
    "version": 3
   },
   "file_extension": ".py",
   "mimetype": "text/x-python",
   "name": "python",
   "nbconvert_exporter": "python",
   "pygments_lexer": "ipython3",
   "version": "3.10.9"
  }
 },
 "nbformat": 4,
 "nbformat_minor": 5
}
